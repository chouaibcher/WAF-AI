{
 "cells": [
  {
   "cell_type": "markdown",
   "metadata": {},
   "source": [
    "<h1> Single model </h1>\n",
    "\n",
    "<span>for All Attacks</span>\n",
    "<p>\n",
    "Pros:\n",
    "</br>\n",
    "Easier to deploy and maintain.\n",
    "</br>\n",
    "Reduced computational overhead.\n",
    "</br>\n",
    "Cons:\n",
    "</br>\n",
    "Risk of reduced precision\n",
    "</br>\n",
    "May struggle with complex attacks or novel patterns.\n",
    "</p>"
   ]
  },
  {
   "cell_type": "markdown",
   "metadata": {},
   "source": []
  }
 ],
 "metadata": {
  "language_info": {
   "name": "python"
  }
 },
 "nbformat": 4,
 "nbformat_minor": 2
}
